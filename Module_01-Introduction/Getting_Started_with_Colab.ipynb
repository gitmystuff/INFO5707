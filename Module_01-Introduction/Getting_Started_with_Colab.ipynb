{
  "nbformat": 4,
  "nbformat_minor": 0,
  "metadata": {
    "colab": {
      "provenance": [],
      "include_colab_link": true
    },
    "kernelspec": {
      "name": "python3",
      "display_name": "Python 3"
    },
    "language_info": {
      "name": "python"
    }
  },
  "cells": [
    {
      "cell_type": "markdown",
      "metadata": {
        "id": "view-in-github",
        "colab_type": "text"
      },
      "source": [
        "<a href=\"https://colab.research.google.com/github/gitmystuff/INFO5707/blob/main/Module_01-Introduction/Getting_Started_with_Colab.ipynb\" target=\"_parent\"><img src=\"https://colab.research.google.com/assets/colab-badge.svg\" alt=\"Open In Colab\"/></a>"
      ]
    },
    {
      "cell_type": "markdown",
      "source": [
        "# Getting Started with Colab\n",
        "\n",
        "Your Name"
      ],
      "metadata": {
        "id": "FwWQGoGDiwms"
      }
    },
    {
      "cell_type": "markdown",
      "source": [
        "## Getting Started\n",
        "\n",
        "* Colab - get notebook from gitmystuff INFO5707 repository\n",
        "* Save a Copy in Drive\n",
        "* Remove Copy of\n",
        "* Edit your name\n",
        "* Clean up Colab Notebooks folder\n",
        "* Submit shared link"
      ],
      "metadata": {
        "id": "tv86CANY3_Xy"
      }
    },
    {
      "cell_type": "code",
      "source": [
        "# # convert csv from pandas to sql\n",
        "# import pandas as pd\n",
        "\n",
        "# df = pd.read_csv('https://raw.githubusercontent.com/gitmystuff/Datasets/main/Auto.csv')\n",
        "# print(df.shape)\n",
        "# print(df.info())\n",
        "# df.head()"
      ],
      "metadata": {
        "id": "X4MmbjklAMKg"
      },
      "execution_count": null,
      "outputs": []
    },
    {
      "cell_type": "code",
      "source": [
        "# # pandas groupby example\n",
        "# df['origin'] = df['origin'].astype('object')\n",
        "# df.groupby('origin')['mpg'].mean()"
      ],
      "metadata": {
        "id": "YA3TPMzgHAUH"
      },
      "execution_count": null,
      "outputs": []
    },
    {
      "cell_type": "code",
      "source": [
        "# # pandas to sql\n",
        "# from sqlalchemy import create_engine, text\n",
        "\n",
        "# db = create_engine('sqlite:///automobiles.db', echo=True)\n",
        "# data = df.to_sql(name='MPG', con=db)"
      ],
      "metadata": {
        "id": "z2888IViCjJG"
      },
      "execution_count": null,
      "outputs": []
    },
    {
      "cell_type": "markdown",
      "source": [
        " The colon (:) is a special character that tells SQLite's driver, \"The word that follows is not a filename, but a special command or mode.\""
      ],
      "metadata": {
        "id": "K4rthO8e0VsX"
      }
    },
    {
      "cell_type": "code",
      "source": [
        "# # connect and query\n",
        "# with db.connect() as conn:\n",
        "#   results = conn.execute(text('SELECT * FROM MPG'))\n",
        "#   # results = conn.execute(text('SELECT * FROM MPG LIMIT 5'))\n",
        "\n",
        "# results.all()"
      ],
      "metadata": {
        "id": "PUzkh_E6Jyku"
      },
      "execution_count": null,
      "outputs": []
    },
    {
      "cell_type": "code",
      "source": [
        "# # connect and query\n",
        "# with db.connect() as conn:\n",
        "#   results = conn.execute(text('SELECT AVG(mpg) FROM MPG GROUP BY origin'))\n",
        "\n",
        "# results.all()"
      ],
      "metadata": {
        "id": "uWZxLDshKh7U"
      },
      "execution_count": null,
      "outputs": []
    },
    {
      "cell_type": "code",
      "source": [
        "# # query to dataframe\n",
        "# import pandas as pd\n",
        "# from sqlalchemy import create_engine, text\n",
        "\n",
        "# sql_query = 'SELECT * FROM MPG WHERE horsepower > 150'\n",
        "# new_df = pd.read_sql(sql_query, con=db)\n",
        "\n",
        "# print(\"DataFrame created from SQL query:\")\n",
        "# new_df.head()"
      ],
      "metadata": {
        "id": "p2nflJhpur4s"
      },
      "execution_count": null,
      "outputs": []
    },
    {
      "cell_type": "code",
      "source": [
        "# # Use pd.read_sql_table to get the entire 'MPG' table\n",
        "# full_table_df = pd.read_sql_table('MPG', con=db)\n",
        "# full_table_df.head()"
      ],
      "metadata": {
        "id": "zeJC8srsvF58"
      },
      "execution_count": null,
      "outputs": []
    },
    {
      "cell_type": "code",
      "source": [
        "# # pandas to sql\n",
        "# from sqlalchemy import create_engine, text\n",
        "\n",
        "# db = create_engine('sqlite:///automobiles.db', echo=False) # or just remove echo=....\n",
        "# data = df.to_sql(name='MPG', con=db, if_exists='replace') # since MPG already exists\n",
        "# with db.connect() as conn:\n",
        "#   results = conn.execute(text('SELECT * FROM MPG LIMIT 5'))\n",
        "\n",
        "# results.all()"
      ],
      "metadata": {
        "id": "FmGPTxrjvsAD"
      },
      "execution_count": null,
      "outputs": []
    },
    {
      "cell_type": "markdown",
      "source": [
        "## Optional Reading\n",
        "\n",
        "* https://www.kdnuggets.com/leveraging-pandas-and-sql-together-for-efficient-data-analysis"
      ],
      "metadata": {
        "id": "gDy24sEsrtJ7"
      }
    }
  ]
}