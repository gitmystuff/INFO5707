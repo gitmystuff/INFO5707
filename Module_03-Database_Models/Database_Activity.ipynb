{
  "nbformat": 4,
  "nbformat_minor": 0,
  "metadata": {
    "colab": {
      "provenance": [],
      "authorship_tag": "ABX9TyO0VrOV/YTvGkY5siYyVGR6",
      "include_colab_link": true
    },
    "kernelspec": {
      "name": "python3",
      "display_name": "Python 3"
    },
    "language_info": {
      "name": "python"
    }
  },
  "cells": [
    {
      "cell_type": "markdown",
      "metadata": {
        "id": "view-in-github",
        "colab_type": "text"
      },
      "source": [
        "<a href=\"https://colab.research.google.com/github/gitmystuff/INFO5707/blob/main/Module_03-Database_Models/Database_Activity.ipynb\" target=\"_parent\"><img src=\"https://colab.research.google.com/assets/colab-badge.svg\" alt=\"Open In Colab\"/></a>"
      ]
    },
    {
      "cell_type": "markdown",
      "source": [
        "## SQLite: Relational"
      ],
      "metadata": {
        "id": "DFOMcYVm3jnv"
      }
    },
    {
      "cell_type": "code",
      "source": [
        "import sqlite3\n",
        "\n",
        "db = 'museum.db'\n",
        "try:\n",
        "    # Connect to a database file (or create if it doesn't exist)\n",
        "    connection = sqlite3.connect(db)\n",
        "    cursor = connection.cursor()\n",
        "    print(f\"Connection and cursor to SQLite database {db} established successfully.\")\n",
        "except sqlite3.Error as e:\n",
        "    print(f\"Error connecting to database: {e}\")"
      ],
      "metadata": {
        "colab": {
          "base_uri": "https://localhost:8080/"
        },
        "id": "6B1zz1YZ3oxt",
        "outputId": "4544c6fc-16dd-4b8e-e4bf-48119a1160de"
      },
      "execution_count": null,
      "outputs": [
        {
          "output_type": "stream",
          "name": "stdout",
          "text": [
            "Connection and cursor to SQLite database museum.db established successfully.\n"
          ]
        }
      ]
    },
    {
      "cell_type": "code",
      "source": [
        "# multiline strings in Python can be sorrounded with ''' Multi line text '''\n",
        "query = '''\n",
        "CREATE TABLE IF NOT EXISTS exhibitions (\n",
        "    exhibition_id INTEGER PRIMARY KEY,\n",
        "    title TEXT,\n",
        "    start_date DATE,\n",
        "    end_date DATE\n",
        ");\n",
        "'''\n",
        "cursor.execute(query)"
      ],
      "metadata": {
        "colab": {
          "base_uri": "https://localhost:8080/"
        },
        "id": "pteqJkHy6Y46",
        "outputId": "605ec860-793f-426d-b3fa-55ca78887c43"
      },
      "execution_count": null,
      "outputs": [
        {
          "output_type": "execute_result",
          "data": {
            "text/plain": [
              "<sqlite3.Cursor at 0x7fe0becbd840>"
            ]
          },
          "metadata": {},
          "execution_count": 2
        }
      ]
    },
    {
      "cell_type": "code",
      "source": [
        "# snake_case\n",
        "# cursor.execute(\"INSERT INTO exhibitions (exhibition_id, title, start_date, end_date) VALUES ('Ancient Greece: A Retrospective', '2025-09-01', '2026-03-30')\")\n",
        "# INSERT INTO exhibitions (exhibition_id, title, start_date, end_date)\n",
        "# VALUES\n",
        "#     (1, 'Ancient Greece: A Retrospective', '2025-09-01', '2026-03-30'),\n",
        "#     (2, 'The Art of the Impressionists', '2025-10-15', '2026-01-15');\n",
        "# );\n",
        "\n",
        "data_to_insert = [\n",
        "    (1, 'Ancient Greece: A Retrospective', '2025-09-01', '2026-03-30'),\n",
        "    (2, 'The Art of the Impressionists', '2025-10-15', '2026-01-15')\n",
        "]\n",
        "\n",
        "cursor.executemany(\"INSERT INTO exhibitions(exhibition_id, title, start_date, end_date) VALUES (?, ?, ?, ?)\", data_to_insert)"
      ],
      "metadata": {
        "colab": {
          "base_uri": "https://localhost:8080/"
        },
        "id": "5Bz5nPCK7X3e",
        "outputId": "df2b8fd3-69c1-4bcf-f125-82d1f57b77ea"
      },
      "execution_count": null,
      "outputs": [
        {
          "output_type": "execute_result",
          "data": {
            "text/plain": [
              "<sqlite3.Cursor at 0x7fe0becbd840>"
            ]
          },
          "metadata": {},
          "execution_count": 3
        }
      ]
    },
    {
      "cell_type": "code",
      "source": [
        "rows = cursor.execute(\"SELECT * FROM exhibitions\").fetchall()\n",
        "for row in rows:\n",
        "    print(row)"
      ],
      "metadata": {
        "colab": {
          "base_uri": "https://localhost:8080/"
        },
        "id": "rP13Ayq8AC7p",
        "outputId": "531f38e8-e853-4a40-bb14-35d5f8e417b1"
      },
      "execution_count": null,
      "outputs": [
        {
          "output_type": "stream",
          "name": "stdout",
          "text": [
            "(1, 'Ancient Greece: A Retrospective', '2025-09-01', '2026-03-30')\n",
            "(2, 'The Art of the Impressionists', '2025-10-15', '2026-01-15')\n"
          ]
        }
      ]
    },
    {
      "cell_type": "markdown",
      "source": [
        "### Tables"
      ],
      "metadata": {
        "id": "LoomD8FYDlLt"
      }
    },
    {
      "cell_type": "markdown",
      "source": [
        "The **table** is the **entity**, and the **columns** are the **attributes**. The inserted data is called **rows** or **records**.\n",
        "\n",
        "### The Breakdown\n",
        "\n",
        "* **Entity:** The `exhibitions` table is the entity. It represents a real-world object or concept.\n",
        "* **Attributes:** The columns (`exhibition_id`, `title`, `start_date`, `end_date`) are the attributes. They define the properties of the entity.\n",
        "* **Rows/Records:** Each line of data you insert is a **row** or a **record**. A single row is a specific instance of the entity. For example, the row containing `'Ancient Greece: A Retrospective'` is one record in the `Exhibitions` table. It represents one specific exhibition instance."
      ],
      "metadata": {
        "id": "ZHuxbwyWAjbg"
      }
    },
    {
      "cell_type": "markdown",
      "source": [
        "In SQLite, **PRIMARY KEYs**, **AUTOINCREMENT**, and **rowids** are related concepts that help uniquely identify rows, but they work together in specific ways.\n",
        "\n",
        "**The Rowids**\n",
        "\n",
        "Every single table in SQLite has a hidden, unique identifier called the **rowid**. It's an integer that automatically increments with each new row inserted. Think of it as the table's built-in, default primary key. It's always there, even if you don't explicitly define a primary key.\n",
        "\n",
        "**Primary Key**\n",
        "\n",
        "When you define a column as `PRIMARY KEY`, it becomes the official, explicit way to identify rows. This is an essential concept for database design because it's a **constraint** that guarantees uniqueness and non-null values for that column.\n",
        "\n",
        "There are two types of primary keys in SQLite:\n",
        "\n",
        "1.  **Integer Primary Key:** If you define an `INTEGER` column as the `PRIMARY KEY`, that column becomes an **alias** for the hidden **rowid**. This is the most common and efficient way to create an auto-incrementing key in SQLite. When you insert a new row and don't provide a value for this column, SQLite automatically assigns the next available rowid.\n",
        "\n",
        "2.  **Other Primary Keys:** If you define any other data type (like `TEXT` or `REAL`) or a composite key as the `PRIMARY KEY`, SQLite creates a regular index on that column. The hidden **rowid** still exists and is used internally, but your chosen primary key is the official identifier for the table.\n",
        "\n",
        "**AUTOINCREMENT**\n",
        "\n",
        "The `AUTOINCREMENT` keyword in SQLite is a specific instruction that goes with an `INTEGER PRIMARY KEY`. It adds an extra layer of behavior: it guarantees that the new rowid will be **strictly greater** than any previously used rowid.\n",
        "\n",
        "This is different from the default behavior of an `INTEGER PRIMARY KEY` alone. Without `AUTOINCREMENT`, if you were to delete the highest-numbered row, the next inserted row might reuse that now-available rowid. With `AUTOINCREMENT`, this never happens; the counter just keeps going up.\n",
        "\n",
        "It's important to note that `AUTOINCREMENT` is generally **not necessary** for most applications. The default behavior of a simple `INTEGER PRIMARY KEY` is usually sufficient and more efficient. The `AUTOINCREMENT` keyword should only be used if you have a specific requirement to ensure that IDs are never reused and always increase, even after deletions."
      ],
      "metadata": {
        "id": "lZ1yHSWVA5xd"
      }
    },
    {
      "cell_type": "markdown",
      "source": [
        "## CRUD"
      ],
      "metadata": {
        "id": "MjedSCFYGANB"
      }
    },
    {
      "cell_type": "code",
      "source": [
        "def read_exhibitions():\n",
        "    \"\"\"Retrieves and prints all exhibitions.\"\"\"\n",
        "    print(\"\\nCurrent Exhibitions:\")\n",
        "    cursor.execute('SELECT * FROM Exhibitions')\n",
        "    rows = cursor.fetchall()\n",
        "    for row in rows:\n",
        "        print(f\"ID: {row[0]}, Title: {row[1]}, Start: {row[2]}, End: {row[3]}\")\n",
        "\n",
        "def read_single_exhibition(exhibition_id):\n",
        "    \"\"\"Retrieves and prints a single exhibition by its ID.\"\"\"\n",
        "    print(f\"\\nRetrieving exhibition with ID {exhibition_id}:\")\n",
        "    cursor.execute('SELECT * FROM exhibitions WHERE exhibition_id = ?', (exhibition_id,))\n",
        "    row = cursor.fetchone()\n",
        "    if row:\n",
        "        print(f\"ID: {row[0]}, Title: {row[1]}, Start: {row[2]}, End: {row[3]}\")\n",
        "    else:\n",
        "        print(\"Exhibition not found.\")\n",
        "\n",
        "def update_exhibition_dates(exhibition_id, new_end_date):\n",
        "    \"\"\"Updates the end date for a specific exhibition.\"\"\"\n",
        "    cursor.execute('''\n",
        "        UPDATE exhibitions\n",
        "        SET end_date = ?\n",
        "        WHERE exhibition_id = ?\n",
        "    ''', (new_end_date, exhibition_id))\n",
        "    connection.commit()\n",
        "    print(f\"\\nUpdated exhibition with ID {exhibition_id}. New end date: {new_end_date}\")\n",
        "\n",
        "def delete_exhibition(exhibition_id):\n",
        "    \"\"\"Deletes an exhibition from the table.\"\"\"\n",
        "    cursor.execute('DELETE FROM exhibitions WHERE exhibition_id = ?', (exhibition_id,))\n",
        "    connection.commit()\n",
        "    print(f\"\\nDeleted exhibition with ID {exhibition_id}.\")\n"
      ],
      "metadata": {
        "collapsed": true,
        "id": "W7SSXzBSGCJh"
      },
      "execution_count": null,
      "outputs": []
    },
    {
      "cell_type": "code",
      "source": [
        "update_exhibition_dates(1, '2026-04-30')\n",
        "read_single_exhibition(1)"
      ],
      "metadata": {
        "colab": {
          "base_uri": "https://localhost:8080/"
        },
        "id": "VG707nzwI5yB",
        "outputId": "5dfdced2-2d3e-474e-fcfc-4bb2b7cff826"
      },
      "execution_count": null,
      "outputs": [
        {
          "output_type": "stream",
          "name": "stdout",
          "text": [
            "\n",
            "Updated exhibition with ID 1. New end date: 2026-04-30\n",
            "\n",
            "Retrieving exhibition with ID 1:\n",
            "ID: 1, Title: Ancient Greece: A Retrospective, Start: 2025-09-01, End: 2026-04-30\n"
          ]
        }
      ]
    },
    {
      "cell_type": "code",
      "source": [
        "delete_exhibition(2)\n",
        "read_exhibitions()\n",
        "\n",
        "# Close the connection when done\n",
        "connection.close()\n",
        "print(\"\\nDatabase connection closed.\")"
      ],
      "metadata": {
        "colab": {
          "base_uri": "https://localhost:8080/"
        },
        "id": "5tuuH7jdIqNT",
        "outputId": "3addecc1-4b8a-41f6-b350-ac065af57ea8"
      },
      "execution_count": null,
      "outputs": [
        {
          "output_type": "stream",
          "name": "stdout",
          "text": [
            "\n",
            "Deleted exhibition with ID 2.\n",
            "\n",
            "Current Exhibitions:\n",
            "ID: 1, Title: Ancient Greece: A Retrospective, Start: 2025-09-01, End: 2026-04-30\n",
            "\n",
            "Database connection closed.\n"
          ]
        }
      ]
    },
    {
      "cell_type": "markdown",
      "source": [
        "## Redis: Key-Value"
      ],
      "metadata": {
        "id": "Sos7ePAR2RPQ"
      }
    },
    {
      "cell_type": "code",
      "execution_count": null,
      "metadata": {
        "colab": {
          "base_uri": "https://localhost:8080/"
        },
        "id": "bb1khmzsX74t",
        "outputId": "d865e457-b507-4cc2-f438-601d7a457a8c"
      },
      "outputs": [
        {
          "output_type": "stream",
          "name": "stdout",
          "text": [
            "\r0% [Working]\r            \rHit:1 http://security.ubuntu.com/ubuntu jammy-security InRelease\n",
            "Hit:2 https://cli.github.com/packages stable InRelease\n",
            "Hit:3 https://cloud.r-project.org/bin/linux/ubuntu jammy-cran40/ InRelease\n",
            "Hit:4 https://developer.download.nvidia.com/compute/cuda/repos/ubuntu2204/x86_64  InRelease\n",
            "Hit:5 https://r2u.stat.illinois.edu/ubuntu jammy InRelease\n",
            "Hit:6 http://archive.ubuntu.com/ubuntu jammy InRelease\n",
            "Hit:7 http://archive.ubuntu.com/ubuntu jammy-updates InRelease\n",
            "Hit:8 http://archive.ubuntu.com/ubuntu jammy-backports InRelease\n",
            "Hit:9 https://ppa.launchpadcontent.net/deadsnakes/ppa/ubuntu jammy InRelease\n",
            "Hit:10 https://ppa.launchpadcontent.net/graphics-drivers/ppa/ubuntu jammy InRelease\n",
            "Hit:11 https://ppa.launchpadcontent.net/ubuntugis/ppa/ubuntu jammy InRelease\n",
            "Reading package lists... Done\n",
            "W: Skipping acquire of configured file 'main/source/Sources' as repository 'https://r2u.stat.illinois.edu/ubuntu jammy InRelease' does not seem to provide it (sources.list entry misspelt?)\n",
            "Reading package lists... Done\n",
            "Building dependency tree... Done\n",
            "Reading state information... Done\n",
            "redis-server is already the newest version (5:6.0.16-1ubuntu1).\n",
            "0 upgraded, 0 newly installed, 0 to remove and 36 not upgraded.\n"
          ]
        }
      ],
      "source": [
        "!apt-get update\n",
        "!apt-get install redis-server -y"
      ]
    },
    {
      "cell_type": "code",
      "source": [
        "!pip install redis"
      ],
      "metadata": {
        "colab": {
          "base_uri": "https://localhost:8080/"
        },
        "id": "-MpcPITkYaDQ",
        "outputId": "406f4620-d119-4968-9bfa-d7db4479e548"
      },
      "execution_count": null,
      "outputs": [
        {
          "output_type": "stream",
          "name": "stdout",
          "text": [
            "Requirement already satisfied: redis in /usr/local/lib/python3.12/dist-packages (6.4.0)\n"
          ]
        }
      ]
    },
    {
      "cell_type": "code",
      "source": [
        "!service redis-server start"
      ],
      "metadata": {
        "colab": {
          "base_uri": "https://localhost:8080/"
        },
        "id": "3_ch2h91YgJ5",
        "outputId": "83d8173e-b1dc-4aea-8dc0-dbf580d6bc67"
      },
      "execution_count": null,
      "outputs": [
        {
          "output_type": "stream",
          "name": "stdout",
          "text": [
            "Starting redis-server: redis-server.\n"
          ]
        }
      ]
    },
    {
      "cell_type": "code",
      "source": [
        "import redis\n",
        "\n",
        "# Connect to the local Redis server\n",
        "r = redis.Redis(host='localhost', port=6379, db=0)\n",
        "\n",
        "# Test the connection with the PING command\n",
        "try:\n",
        "    r.ping()\n",
        "    print(\"Redis server is up and running!\")\n",
        "except redis.exceptions.ConnectionError as e:\n",
        "    print(f\"Connection error: {e}\")\n",
        "\n",
        "# Set and get a key-value pair\n",
        "r.set('name', 'Alice')\n",
        "name = r.get('name').decode('utf-8')\n",
        "print(f\"Retrieved name: {name}\")"
      ],
      "metadata": {
        "colab": {
          "base_uri": "https://localhost:8080/"
        },
        "id": "6CK7X40le204",
        "outputId": "11eaad64-4780-4b36-e509-faefb0dc0622"
      },
      "execution_count": null,
      "outputs": [
        {
          "output_type": "stream",
          "name": "stdout",
          "text": [
            "Redis server is up and running!\n",
            "Retrieved name: Alice\n"
          ]
        }
      ]
    },
    {
      "cell_type": "code",
      "source": [
        "import redis\n",
        "\n",
        "r = redis.Redis(host='localhost', port=6379, db=0)\n",
        "\n",
        "exhibition_data = {\n",
        "    'title': 'Ancient Greece: A Retrospective',\n",
        "    'start_date': '2025-09-01',\n",
        "    'end_date': '2026-03-30',\n",
        "    'curator': 'Jane Doe'  # An attribute that can be added easily\n",
        "}\n",
        "\n",
        "r.hset('exhibition:101', mapping=exhibition_data)\n",
        "\n",
        "# Retrieve all fields and values from the hash\n",
        "all_fields = r.hgetall('exhibition:101')\n",
        "decoded_fields = {key.decode('utf-8'): value.decode('utf-8') for key, value in all_fields.items()}\n",
        "\n",
        "print(f\"\\nExhibition Data for 'exhibition:101':\")\n",
        "print(decoded_fields)\n",
        "\n",
        "# To demonstrate flexibility, let's add a new field to a different exhibition\n",
        "# This doesn't require schema changes for other records\n",
        "r.hset('exhibition:102', 'theme', 'Impressionist paintings')\n",
        "\n",
        "# Retrieve the new exhibition's data\n",
        "new_exhibition_data = r.hgetall('exhibition:102')\n",
        "decoded_new_data = {key.decode('utf-8'): value.decode('utf-8') for key, value in new_exhibition_data.items()}\n",
        "\n",
        "print(f\"\\nExhibition Data for 'exhibition:102':\")\n",
        "print(decoded_new_data)"
      ],
      "metadata": {
        "id": "7rMj61iGe5YK",
        "colab": {
          "base_uri": "https://localhost:8080/"
        },
        "outputId": "796d709d-552b-47dc-c25a-dc7b161ceaf9"
      },
      "execution_count": null,
      "outputs": [
        {
          "output_type": "stream",
          "name": "stdout",
          "text": [
            "\n",
            "Exhibition Data for 'exhibition:101':\n",
            "{'title': 'Ancient Greece: A Retrospective', 'start_date': '2025-09-01', 'end_date': '2026-03-30', 'curator': 'Jane Doe'}\n",
            "\n",
            "Exhibition Data for 'exhibition:102':\n",
            "{'theme': 'Impressionist paintings'}\n"
          ]
        }
      ]
    },
    {
      "cell_type": "markdown",
      "source": [
        "### Collections"
      ],
      "metadata": {
        "id": "s2GRh1cLDgr9"
      }
    },
    {
      "cell_type": "markdown",
      "source": [
        "**exhibition** is the name of the **collection**, and **101** and **102** are the unique **IDs**.\n"
      ],
      "metadata": {
        "id": "si7t_qVrDdSk"
      }
    },
    {
      "cell_type": "markdown",
      "source": [
        "### Explanation\n",
        "\n",
        "In the Redis code, the key for each record is a compound string like `exhibition:101` and `exhibition:102`.\n",
        "\n",
        "* **`exhibition`**: This is the prefix or namespace. It serves a purpose similar to a table name in a relational database—it groups related items together, forming a logical **collection** of exhibitions.\n",
        "* **`:`**: This colon is a common convention in Redis for separating the namespace from the unique ID. It helps organize your keys and makes it easy to search for all keys within a specific collection (e.g., all `exhibition:*` keys).\n",
        "* **`101` and `102`**: These are the unique identifiers or **IDs** for each individual exhibition record. They function just like a `PRIMARY KEY` in a relational table, ensuring that each exhibition can be retrieved and referenced uniquely.\n",
        "\n",
        "This structure allows the developer to organize data logically while maintaining the flexibility and simplicity of a key-value store."
      ],
      "metadata": {
        "id": "QHJMzz3mDwO5"
      }
    },
    {
      "cell_type": "code",
      "source": [
        "import json\n",
        "\n",
        "all_exhibitions = []\n",
        "r_cursor = '0'\n",
        "\n",
        "while r_cursor != 0:\n",
        "    r_cursor, keys = r.scan(cursor=r_cursor, match='exhibition:*')\n",
        "    for key in keys:\n",
        "        # HGETALL retrieves all fields and values for a hash\n",
        "        exhibition_data = r.hgetall(key)\n",
        "        # Decode the bytes and add to the list\n",
        "        decoded_data = {\n",
        "            'id': key.decode('utf-8').split(':')[-1],\n",
        "            'attributes': {k.decode('utf-8'): v.decode('utf-8') for k, v in exhibition_data.items()}\n",
        "        }\n",
        "        all_exhibitions.append(decoded_data)\n",
        "\n",
        "print(\"Retrieved the entire 'exhibition' collection:\")\n",
        "print(json.dumps(all_exhibitions, indent=2))"
      ],
      "metadata": {
        "colab": {
          "base_uri": "https://localhost:8080/"
        },
        "id": "LJgLWCX2EId7",
        "outputId": "046c10dc-8dba-437e-873b-c511a647146e"
      },
      "execution_count": null,
      "outputs": [
        {
          "output_type": "stream",
          "name": "stdout",
          "text": [
            "Retrieved the entire 'exhibition' collection:\n",
            "[\n",
            "  {\n",
            "    \"id\": \"101\",\n",
            "    \"attributes\": {\n",
            "      \"title\": \"Ancient Greece: A Retrospective\",\n",
            "      \"start_date\": \"2025-09-01\",\n",
            "      \"end_date\": \"2026-03-30\",\n",
            "      \"curator\": \"Jane Doe\"\n",
            "    }\n",
            "  },\n",
            "  {\n",
            "    \"id\": \"102\",\n",
            "    \"attributes\": {\n",
            "      \"theme\": \"Impressionist paintings\"\n",
            "    }\n",
            "  }\n",
            "]\n"
          ]
        }
      ]
    },
    {
      "cell_type": "markdown",
      "source": [
        "In Redis and MongoDB, **collections** would be the entity. While their data models are different from the relational model, the concept of a collection serves the same purpose as a table: to group a set of related objects (documents or keys) that represent a single real-world entity.\n",
        "\n",
        "**Redis**\n",
        "In Redis, a logical collection is a group of keys that share a common prefix, like `exhibition:`. This prefix acts as a namespace, functionally creating a collection. Each unique key within that collection, such as `exhibition:101`, represents a single instance of the entity.\n",
        "\n",
        "**MongoDB**\n",
        "In MongoDB, the term **collection** is an explicit part of the data model. A collection is a grouping of JSON-like documents. Each document in the `exhibitions` collection represents a single instance of the exhibition entity."
      ],
      "metadata": {
        "id": "cgXLAvy-R2tS"
      }
    },
    {
      "cell_type": "markdown",
      "source": [
        "## MongoDB"
      ],
      "metadata": {
        "id": "mC2gd7APFMEv"
      }
    },
    {
      "cell_type": "code",
      "source": [
        "# !pip install pymongo"
      ],
      "metadata": {
        "id": "uc7s5M9qFOYi"
      },
      "execution_count": null,
      "outputs": []
    },
    {
      "cell_type": "code",
      "source": [
        "# from pymongo import MongoClient\n",
        "\n",
        "# # Connect to the local MongoDB server\n",
        "# client = MongoClient('mongodb://localhost:27017/')\n",
        "\n",
        "# # Select the database and collection\n",
        "# db = client['museum_db']\n",
        "# exhibitions_collection = db['exhibitions']\n",
        "\n",
        "# print(\"Connected to MongoDB.\")"
      ],
      "metadata": {
        "id": "rLz6tjhtFSYE"
      },
      "execution_count": null,
      "outputs": []
    },
    {
      "cell_type": "code",
      "source": [
        "# # Insert one document\n",
        "# one_exhibition = {\n",
        "#     'title': 'Ancient Greece: A Retrospective',\n",
        "#     'start_date': '2025-09-01',\n",
        "#     'end_date': '2026-03-30',\n",
        "#     'curator': 'Jane Doe'\n",
        "# }\n",
        "# result_one = exhibitions_collection.insert_one(one_exhibition)\n",
        "# print(f\"Inserted one document with ID: {result_one.inserted_id}\")\n",
        "\n",
        "# # Insert multiple documents\n",
        "# many_exhibitions = [\n",
        "#     {\n",
        "#         'title': 'The Art of the Impressionists',\n",
        "#         'start_date': '2025-10-15',\n",
        "#         'end_date': '2026-01-15'\n",
        "#     },\n",
        "#     {\n",
        "#         'title': 'Dinosaurs: The Untold Story',\n",
        "#         'start_date': '2026-05-01',\n",
        "#         'end_date': '2026-11-01',\n",
        "#         'theme': 'Paleontology'\n",
        "#     }\n",
        "# ]\n",
        "# result_many = exhibitions_collection.insert_many(many_exhibitions)\n",
        "# print(f\"Inserted multiple documents with IDs: {result_many.inserted_ids}\")"
      ],
      "metadata": {
        "id": "Q5f1g4Y9FU05"
      },
      "execution_count": null,
      "outputs": []
    },
    {
      "cell_type": "code",
      "source": [
        "# # Find all documents\n",
        "# print(\"\\nFinding all documents:\")\n",
        "# for doc in exhibitions_collection.find({}):\n",
        "#     print(doc)\n",
        "\n",
        "# # Find documents with specific criteria\n",
        "# print(\"\\nFinding documents curated by 'Jane Doe':\")\n",
        "# query = {'curator': 'Jane Doe'}\n",
        "# for doc in exhibitions_collection.find(query):\n",
        "#     print(doc)"
      ],
      "metadata": {
        "id": "C4NmSng3FXfr"
      },
      "execution_count": null,
      "outputs": []
    },
    {
      "cell_type": "code",
      "source": [
        "# # Update a document by adding a new field\n",
        "# update_query = {'title': 'The Art of the Impressionists'}\n",
        "# new_values = {'$set': {'curator': 'John Smith'}}\n",
        "# exhibitions_collection.update_one(update_query, new_values)\n",
        "\n",
        "# print(\"\\nUpdated 'The Art of the Impressionists' with a curator.\")\n",
        "# updated_doc = exhibitions_collection.find_one({'title': 'The Art of the Impressionists'})\n",
        "# print(updated_doc)"
      ],
      "metadata": {
        "id": "fpZgTfEmFaYx"
      },
      "execution_count": null,
      "outputs": []
    },
    {
      "cell_type": "code",
      "source": [
        "# # Delete a specific document\n",
        "# delete_query = {'title': 'Ancient Greece: A Retrospective'}\n",
        "# result = exhibitions_collection.delete_one(delete_query)\n",
        "\n",
        "# print(f\"\\nDeleted {result.deleted_count} document.\")\n",
        "\n",
        "# # Verify deletion\n",
        "# print(\"\\nChecking remaining documents:\")\n",
        "# for doc in exhibitions_collection.find({}):\n",
        "#     print(doc)"
      ],
      "metadata": {
        "id": "mbITP50rFhRM"
      },
      "execution_count": null,
      "outputs": []
    }
  ]
}